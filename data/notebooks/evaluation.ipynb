{
 "cells": [
  {
   "cell_type": "markdown",
   "metadata": {},
   "source": [
    "# Evaluation: Automated Unit Test Generation for Python\n",
    "\n",
    "Provides the empirical evaluation for S. Lukasczyk, F. Kroiß, and G. Fraser.\n",
    "*Automated Unit Test Generation for Python*.  Submitted to SSBSE 2020."
   ]
  },
  {
   "cell_type": "code",
   "execution_count": 1,
   "metadata": {
    "pycharm": {
     "name": "#%%\n"
    }
   },
   "outputs": [],
   "source": [
    "# Do all necessary imports here\n",
    "import itertools as it\n",
    "import statistics\n",
    "\n",
    "from bisect import bisect_left\n",
    "from pathlib import Path\n",
    "from typing import List, Tuple, Optional, Dict\n",
    "\n",
    "import matplotlib.pyplot as plt\n",
    "import numpy as np\n",
    "import pandas as pd\n",
    "import pylatex\n",
    "import scipy.stats as ss\n",
    "import seaborn as sns\n",
    "\n",
    "from pandas import Categorical"
   ]
  },
  {
   "cell_type": "markdown",
   "metadata": {},
   "source": [
    "## Useful Functions for Evaluation\n",
    "\n",
    "Implement the Vargha and Delaney (Â12) effect size statistics,\n",
    "taken from a [GitHub Gist](https://gist.github.com/jacksonpradolima/f9b19d65b7f16603c837024d5f8c8a65)."
   ]
  },
  {
   "cell_type": "code",
   "execution_count": 2,
   "metadata": {
    "pycharm": {
     "name": "#%%\n"
    }
   },
   "outputs": [],
   "source": [
    "def vd_a(treatment: List[float], control: List[float]) -> Tuple[float, str]:\n",
    "    \"\"\"Compute Vargha and Delaney A index\n",
    "\n",
    "    A. Vargha and H. D. Delaney.  A critique and improvement of the CL common language\n",
    "    effect size statistics of McGraw and Wong.  Journal of Educational and Behavioral\n",
    "    Statistics, 25(2):101-132, 2000.\n",
    "\n",
    "    The formula to compute A has been transformed to minimise accuracy errors, see\n",
    "    https://mtorchiano.wordpress.com/2014/05/19/effect-size-of-r-precision/\n",
    "\n",
    "    :param treatment: a list of numbers\n",
    "    :param control: a list of numbers\n",
    "    :return: the value estimate and the magnitude\n",
    "    \"\"\"\n",
    "    m = len(treatment)\n",
    "    n = len(control)\n",
    "\n",
    "    #if m != n:\n",
    "    #    raise ValueError(\"Parameter lists must have equal lengths\")\n",
    "\n",
    "    r = ss.rankdata(treatment + control)\n",
    "    r1 = sum(r[0:m])\n",
    "\n",
    "    # Compute the measure\n",
    "    # A = (r1/m - (m+1)/2)/n  # formula (14) in Vargha and Delaney, 2000\n",
    "    A = (2 * r1 - m * (m + 1)) / (2 * n * m)  # equivalent formula with better accuracy\n",
    "\n",
    "    levels = [0.147, 0.33, 0.474]\n",
    "    magnitudes = [\"negligible\", \"small\", \"medium\", \"large\"]\n",
    "    scaled_A = (A - 0.5) * 2\n",
    "\n",
    "    magnitude = magnitudes[bisect_left(levels, abs(scaled_A))]\n",
    "    estimate = A\n",
    "\n",
    "    return estimate, magnitude"
   ]
  },
  {
   "cell_type": "markdown",
   "metadata": {},
   "source": [
    "Filter a data frame for a list of columns"
   ]
  },
  {
   "cell_type": "code",
   "execution_count": 3,
   "metadata": {
    "pycharm": {
     "name": "#%%\n"
    }
   },
   "outputs": [],
   "source": [
    "def filter_data_frame(data_frame: pd.DataFrame, cols: List[str]) -> pd.DataFrame:\n",
    "    return pd.DataFrame(data_frame, columns=cols)"
   ]
  },
  {
   "cell_type": "markdown",
   "metadata": {},
   "source": [
    "## Load Data from CSV Files"
   ]
  },
  {
   "cell_type": "code",
   "execution_count": 4,
   "metadata": {
    "pycharm": {
     "name": "#%%\n"
    }
   },
   "outputs": [],
   "source": [
    "# The names of the columns we are interested in\n",
    "cut = \"TargetModule\"\n",
    "project_name = \"ProjectName\"\n",
    "config = \"ConfigurationId\"\n",
    "coverage = \"Coverage\"\n",
    "seconds = [f\"CoverageTimeline_T{i}\" for i in range(1, 601)]\n",
    "use_cols = [cut, project_name, config, coverage] + seconds\n",
    "\n",
    "sns.set(style=\"whitegrid\")\n",
    "\n",
    "# How often every CUT was executed\n",
    "runs = 30\n",
    "\n",
    "# Adjust this path on your system if you want to rerun this sheet!\n",
    "PAPER_EXPORT_PATH = Path(\"/Users/sl/repos/papers/python-whole-suite-mosa-paper\")\n",
    "\n",
    "results = pd.read_csv(Path(\"..\") / \"data\" / \"results.csv\")\n",
    "project_information = pd.read_csv(Path(\"..\") / \"data\" / \"projects.csv\")"
   ]
  },
  {
   "cell_type": "markdown",
   "metadata": {},
   "source": [
    "## Quick Overview"
   ]
  },
  {
   "cell_type": "code",
   "execution_count": 5,
   "metadata": {
    "pycharm": {
     "name": "#%%\n"
    }
   },
   "outputs": [
    {
     "data": {
      "text/html": [
       "<div>\n",
       "<style scoped>\n",
       "    .dataframe tbody tr th:only-of-type {\n",
       "        vertical-align: middle;\n",
       "    }\n",
       "\n",
       "    .dataframe tbody tr th {\n",
       "        vertical-align: top;\n",
       "    }\n",
       "\n",
       "    .dataframe thead th {\n",
       "        text-align: right;\n",
       "    }\n",
       "</style>\n",
       "<table border=\"1\" class=\"dataframe\">\n",
       "  <thead>\n",
       "    <tr style=\"text-align: right;\">\n",
       "      <th></th>\n",
       "      <th>count</th>\n",
       "      <th>mean</th>\n",
       "      <th>std</th>\n",
       "      <th>min</th>\n",
       "      <th>25%</th>\n",
       "      <th>50%</th>\n",
       "      <th>75%</th>\n",
       "      <th>max</th>\n",
       "    </tr>\n",
       "    <tr>\n",
       "      <th>ConfigurationId</th>\n",
       "      <th></th>\n",
       "      <th></th>\n",
       "      <th></th>\n",
       "      <th></th>\n",
       "      <th></th>\n",
       "      <th></th>\n",
       "      <th></th>\n",
       "      <th></th>\n",
       "    </tr>\n",
       "  </thead>\n",
       "  <tbody>\n",
       "    <tr>\n",
       "      <th>RandooPy-NoTypes</th>\n",
       "      <td>2748.0</td>\n",
       "      <td>0.621872</td>\n",
       "      <td>0.314282</td>\n",
       "      <td>0.037736</td>\n",
       "      <td>0.306122</td>\n",
       "      <td>0.647059</td>\n",
       "      <td>0.956522</td>\n",
       "      <td>1.0</td>\n",
       "    </tr>\n",
       "    <tr>\n",
       "      <th>RandooPy-TypeHintsInference</th>\n",
       "      <td>2270.0</td>\n",
       "      <td>0.630555</td>\n",
       "      <td>0.315175</td>\n",
       "      <td>0.037736</td>\n",
       "      <td>0.333333</td>\n",
       "      <td>0.666667</td>\n",
       "      <td>1.000000</td>\n",
       "      <td>1.0</td>\n",
       "    </tr>\n",
       "    <tr>\n",
       "      <th>WSPy-NoTypes</th>\n",
       "      <td>2465.0</td>\n",
       "      <td>0.675168</td>\n",
       "      <td>0.307157</td>\n",
       "      <td>0.037736</td>\n",
       "      <td>0.388889</td>\n",
       "      <td>0.750000</td>\n",
       "      <td>1.000000</td>\n",
       "      <td>1.0</td>\n",
       "    </tr>\n",
       "    <tr>\n",
       "      <th>WSPy-TypeHintsInference</th>\n",
       "      <td>2240.0</td>\n",
       "      <td>0.691693</td>\n",
       "      <td>0.305461</td>\n",
       "      <td>0.037736</td>\n",
       "      <td>0.409091</td>\n",
       "      <td>0.750000</td>\n",
       "      <td>1.000000</td>\n",
       "      <td>1.0</td>\n",
       "    </tr>\n",
       "  </tbody>\n",
       "</table>\n",
       "</div>"
      ],
      "text/plain": [
       "                              count      mean       std       min       25%  \\\n",
       "ConfigurationId                                                               \n",
       "RandooPy-NoTypes             2748.0  0.621872  0.314282  0.037736  0.306122   \n",
       "RandooPy-TypeHintsInference  2270.0  0.630555  0.315175  0.037736  0.333333   \n",
       "WSPy-NoTypes                 2465.0  0.675168  0.307157  0.037736  0.388889   \n",
       "WSPy-TypeHintsInference      2240.0  0.691693  0.305461  0.037736  0.409091   \n",
       "\n",
       "                                  50%       75%  max  \n",
       "ConfigurationId                                       \n",
       "RandooPy-NoTypes             0.647059  0.956522  1.0  \n",
       "RandooPy-TypeHintsInference  0.666667  1.000000  1.0  \n",
       "WSPy-NoTypes                 0.750000  1.000000  1.0  \n",
       "WSPy-TypeHintsInference      0.750000  1.000000  1.0  "
      ]
     },
     "execution_count": 5,
     "metadata": {},
     "output_type": "execute_result"
    }
   ],
   "source": [
    "results.groupby(config)[coverage].describe()"
   ]
  },
  {
   "cell_type": "markdown",
   "metadata": {},
   "source": [
    "## Pre-Processing"
   ]
  },
  {
   "cell_type": "code",
   "execution_count": 6,
   "metadata": {
    "pycharm": {
     "name": "#%%\n"
    }
   },
   "outputs": [
    {
     "name": "stdout",
     "output_type": "stream",
     "text": [
      "We tested 104 unique classes, each being executed 30 times per configuration\n"
     ]
    }
   ],
   "source": [
    "number_cuts = len(set(results[cut]))\n",
    "print(f\"We tested {number_cuts} unique classes, each being executed {runs} times per configuration\")"
   ]
  },
  {
   "cell_type": "code",
   "execution_count": 7,
   "metadata": {
    "pycharm": {
     "name": "#%%\n"
    }
   },
   "outputs": [
    {
     "name": "stdout",
     "output_type": "stream",
     "text": [
      "We used 4 configurations, namely:\n",
      " - RandooPy-NoTypes\n",
      " - RandooPy-TypeHintsInference\n",
      " - WSPy-NoTypes\n",
      " - WSPy-TypeHintsInference\n"
     ]
    }
   ],
   "source": [
    "config_names = list(set(results[config]))\n",
    "config_names.sort()\n",
    "print(\"We used {} configurations, namely:\\n - {}\".format(\n",
    "    len(config_names), \"\\n - \".join(config_names)\n",
    "))"
   ]
  },
  {
   "cell_type": "code",
   "execution_count": 8,
   "metadata": {
    "pycharm": {
     "name": "#%%\n"
    }
   },
   "outputs": [],
   "source": [
    "randoopy_notypes = results[results[config] == \"RandooPy-NoTypes\"]\n",
    "randoopy_typehints = results[results[config] == \"RandooPy-TypeHintsInference\"]\n",
    "wspy_notypes = results[results[config] == \"WSPy-NoTypes\"]\n",
    "wspy_typehints = results[results[config] == \"WSPy-TypeHintsInference\"]\n",
    "configurations = [randoopy_notypes, randoopy_typehints, wspy_notypes, wspy_typehints]"
   ]
  },
  {
   "cell_type": "code",
   "execution_count": 9,
   "metadata": {
    "pycharm": {
     "name": "#%%\n"
    }
   },
   "outputs": [],
   "source": [
    "konfigs = {}\n",
    "for name in config_names:\n",
    "    konfigs[name] = results[results[config] == name]"
   ]
  },
  {
   "cell_type": "markdown",
   "metadata": {},
   "source": [
    "### Identifying Failing Runs and Crashes"
   ]
  },
  {
   "cell_type": "code",
   "execution_count": 10,
   "metadata": {
    "pycharm": {
     "name": "#%%\n"
    }
   },
   "outputs": [
    {
     "name": "stdout",
     "output_type": "stream",
     "text": [
      "Available Data Points:\n",
      "----------------------\n",
      "              RandooPy-NoTypes:  100 / 104 CUTS tested  -->    4 CUTS failed entirely\n",
      "   RandooPy-TypeHintsInference:   99 / 104 CUTS tested  -->    5 CUTS failed entirely\n",
      "                  WSPy-NoTypes:  100 / 104 CUTS tested  -->    4 CUTS failed entirely\n",
      "       WSPy-TypeHintsInference:   96 / 104 CUTS tested  -->    8 CUTS failed entirely\n"
     ]
    }
   ],
   "source": [
    "data_points = {}\n",
    "print(\"Available Data Points:\")\n",
    "print(\"----------------------\")\n",
    "for k in konfigs:\n",
    "    l = len(set((konfigs[k])[cut]))\n",
    "    data_points[k] = l\n",
    "    s = \" --> {:> 4} CUTS failed entirely\".format(\n",
    "        number_cuts - l\n",
    "    ) if l != number_cuts else \"\"\n",
    "    print(\"{: >30}: {: >4} / {} CUTS tested\".format(k, l, number_cuts), s)"
   ]
  },
  {
   "cell_type": "code",
   "execution_count": 11,
   "metadata": {
    "pycharm": {
     "name": "#%%\n"
    }
   },
   "outputs": [
    {
     "name": "stdout",
     "output_type": "stream",
     "text": [
      "To mitigate the impact of stochastic anomalies, each CUT was tested multiple times.\n",
      "In detail, we executed each class 30 times per configuration.\n",
      "However, for certain classes the number of test runs is less.\n",
      "Presumably, this is due to some crashes in Pynguin?\n"
     ]
    }
   ],
   "source": [
    "print(\"To mitigate the impact of stochastic anomalies, each CUT was tested multiple times.\")\n",
    "print(f\"In detail, we executed each class {runs} times per configuration.\")\n",
    "if results.groupby([config, cut]).count().min().min() < runs:\n",
    "    print(\"However, for certain classes the number of test runs is less.\")\n",
    "    print(\"Presumably, this is due to some crashes in Pynguin?\")"
   ]
  },
  {
   "cell_type": "code",
   "execution_count": 12,
   "metadata": {
    "pycharm": {
     "name": "#%%\n"
    }
   },
   "outputs": [
    {
     "name": "stdout",
     "output_type": "stream",
     "text": [
      "Sanity check: Is there any CUT that was tested 30 times?\n",
      "YES :)\n"
     ]
    }
   ],
   "source": [
    "print(f\"Sanity check: Is there any CUT that was tested {runs} times?\")\n",
    "computed_runs = results.groupby([config, cut]).count().max().max()\n",
    "if computed_runs == runs:\n",
    "    print(\"YES :)\")\n",
    "else:\n",
    "    print(\"NO!!!!!!!\")"
   ]
  },
  {
   "cell_type": "markdown",
   "metadata": {},
   "source": [
    "## RQ1: Whole-Suite Test Generation vs. Random Test Generation"
   ]
  },
  {
   "cell_type": "code",
   "execution_count": 13,
   "metadata": {
    "pycharm": {
     "name": "#%%\n"
    }
   },
   "outputs": [],
   "source": [
    "ticks = list(set(results[project_name].values))\n",
    "ticks.sort()\n",
    "\n",
    "def set_box_colour(bp, colour):\n",
    "    plt.setp(bp[\"boxes\"], color=colour)\n",
    "    plt.setp(bp[\"whiskers\"], color=colour)\n",
    "    plt.setp(bp[\"caps\"], color=colour)\n",
    "    plt.setp(bp[\"medians\"], color=colour)\n",
    "\n",
    "def get_result_lists(left_config: str, right_config: str) -> Tuple[List[pd.Series], List[pd.Series]]:\n",
    "    bpl_dfs = []\n",
    "    bpr_dfs = []\n",
    "    for project in ticks:\n",
    "        bpl_df = results[results[project_name] == project].groupby(config).get_group(\n",
    "            left_config\n",
    "        )[\"Coverage\"]\n",
    "        bpr_df = results[results[project_name] == project].groupby(config).get_group(\n",
    "            right_config\n",
    "        )[\"Coverage\"]\n",
    "        bpl_dfs.append(bpl_df)\n",
    "        bpr_dfs.append(bpr_df)\n",
    "    return bpl_dfs, bpr_dfs"
   ]
  },
  {
   "cell_type": "code",
   "execution_count": 14,
   "metadata": {
    "pycharm": {
     "name": "#%%\n"
    }
   },
   "outputs": [
    {
     "name": "stderr",
     "output_type": "stream",
     "text": [
      "/Users/sl/Library/Caches/pypoetry/virtualenvs/python-test-generation-experiments-hhYxqZzJ-py3.8/lib/python3.8/site-packages/numpy/core/_asarray.py:83: VisibleDeprecationWarning: Creating an ndarray from ragged nested sequences (which is a list-or-tuple of lists-or-tuples-or ndarrays with different lengths or shapes) is deprecated. If you meant to do this, you must specify 'dtype=object' when creating the ndarray\n",
      "  return array(a, dtype, copy=False, order=order)\n",
      "/Users/sl/Library/Caches/pypoetry/virtualenvs/python-test-generation-experiments-hhYxqZzJ-py3.8/lib/python3.8/site-packages/numpy/core/_asarray.py:83: VisibleDeprecationWarning: Creating an ndarray from ragged nested sequences (which is a list-or-tuple of lists-or-tuples-or ndarrays with different lengths or shapes) is deprecated. If you meant to do this, you must specify 'dtype=object' when creating the ndarray\n",
      "  return array(a, dtype, copy=False, order=order)\n"
     ]
    },
    {
     "data": {
      "image/png": "[encoded data removed]",
      "text/plain": [
       "<Figure size 432x288 with 1 Axes>"
      ]
     },
     "metadata": {},
     "output_type": "display_data"
    }
   ],
   "source": [
    "plt.figure()\n",
    "plt.title(\"Coverage per Project (with types)\")\n",
    "\n",
    "bpl_dfs, bpr_dfs = get_result_lists(\"RandooPy-TypeHintsInference\", \"WSPy-TypeHintsInference\")\n",
    "\n",
    "bpl = plt.boxplot(\n",
    "    bpl_dfs,\n",
    "    positions=np.array(range(len(ticks))) * 2.0 - 0.4,\n",
    "    sym=\"\",\n",
    "    widths=0.6,\n",
    ")\n",
    "bpr = plt.boxplot(\n",
    "    bpr_dfs,\n",
    "    positions=np.array(range(len(ticks))) * 2.0 + 0.4,\n",
    "    sym=\"\",\n",
    "    widths=0.6,\n",
    ")\n",
    "set_box_colour(bpl, \"#D7191C\")\n",
    "set_box_colour(bpr, \"#2C7BB6\")\n",
    "\n",
    "plt.plot([], c=\"#D7191C\", label=\"Random\")\n",
    "plt.plot([], c=\"#2C7BB6\", label=\"WS\")\n",
    "plt.legend()\n",
    "\n",
    "plt.xticks(range(0, len(ticks) * 2, 2), ticks, rotation=90)\n",
    "plt.xlim(-2, len(ticks) * 2)\n",
    "plt.tight_layout()\n",
    "\n",
    "plt.savefig(PAPER_EXPORT_PATH / \"img\" / \"coverage-per-project-types.pdf\", bbox_inches=\"tight\")\n",
    "plt.show()"
   ]
  },
  {
   "cell_type": "code",
   "execution_count": 15,
   "metadata": {
    "pycharm": {
     "name": "#%%\n"
    }
   },
   "outputs": [
    {
     "name": "stderr",
     "output_type": "stream",
     "text": [
      "/Users/sl/Library/Caches/pypoetry/virtualenvs/python-test-generation-experiments-hhYxqZzJ-py3.8/lib/python3.8/site-packages/numpy/core/_asarray.py:83: VisibleDeprecationWarning: Creating an ndarray from ragged nested sequences (which is a list-or-tuple of lists-or-tuples-or ndarrays with different lengths or shapes) is deprecated. If you meant to do this, you must specify 'dtype=object' when creating the ndarray\n",
      "  return array(a, dtype, copy=False, order=order)\n",
      "/Users/sl/Library/Caches/pypoetry/virtualenvs/python-test-generation-experiments-hhYxqZzJ-py3.8/lib/python3.8/site-packages/numpy/core/_asarray.py:83: VisibleDeprecationWarning: Creating an ndarray from ragged nested sequences (which is a list-or-tuple of lists-or-tuples-or ndarrays with different lengths or shapes) is deprecated. If you meant to do this, you must specify 'dtype=object' when creating the ndarray\n",
      "  return array(a, dtype, copy=False, order=order)\n"
     ]
    },
    {
     "data": {
      "image/png": "[encoded data removed]",
      "text/plain": [
       "<Figure size 432x288 with 1 Axes>"
      ]
     },
     "metadata": {},
     "output_type": "display_data"
    }
   ],
   "source": [
    "plt.figure()\n",
    "plt.title(\"Coverage per Project (no types)\")\n",
    "\n",
    "bpl_dfs, bpr_dfs = get_result_lists(\"RandooPy-NoTypes\", \"WSPy-NoTypes\")\n",
    "\n",
    "bpl = plt.boxplot(\n",
    "    bpl_dfs,\n",
    "    positions=np.array(range(len(ticks))) * 2.0 - 0.4,\n",
    "    sym=\"\",\n",
    "    widths=0.6,\n",
    ")\n",
    "bpr = plt.boxplot(\n",
    "    bpr_dfs,\n",
    "    positions=np.array(range(len(ticks))) * 2.0 + 0.4,\n",
    "    sym=\"\",\n",
    "    widths=0.6,\n",
    ")\n",
    "set_box_colour(bpl, \"#D7191C\")\n",
    "set_box_colour(bpr, \"#2C7BB6\")\n",
    "\n",
    "plt.plot([], c=\"#D7191C\", label=\"Random\")\n",
    "plt.plot([], c=\"#2C7BB6\", label=\"WS\")\n",
    "plt.legend()\n",
    "\n",
    "plt.xticks(range(0, len(ticks) * 2, 2), ticks, rotation=90)\n",
    "plt.xlim(-2, len(ticks) * 2)\n",
    "plt.tight_layout()\n",
    "\n",
    "plt.savefig(PAPER_EXPORT_PATH / \"img\" / \"coverage-per-project-notypes.pdf\", bbox_inches=\"tight\")\n",
    "plt.show()"
   ]
  },
  {
   "cell_type": "code",
   "execution_count": 16,
   "metadata": {
    "pycharm": {
     "name": "#%%\n"
    }
   },
   "outputs": [],
   "source": [
    "def compute_data_for_effect_sizes(\n",
    "    control_configuration: str,\n",
    "    treatment_configuration: str,\n",
    ") -> Dict[str, Dict[str, Tuple[List[float], List[float]]]]:\n",
    "    data_per_project = {}\n",
    "    for project in ticks:\n",
    "        treatment = results[\n",
    "            (results[config] == treatment_configuration)\n",
    "            & (results[project_name] == project)\n",
    "        ]\n",
    "        control = results[\n",
    "            (results[config] == control_configuration)\n",
    "            & (results[project_name] == project)\n",
    "        ]\n",
    "        module_data = {}\n",
    "        for module in set(control[cut].tolist()):\n",
    "            control_values = control[\n",
    "                control[cut] == module\n",
    "            ][coverage].values.tolist()\n",
    "            treatment_values = treatment[\n",
    "                treatment[cut] == module\n",
    "            ][coverage].values.tolist()\n",
    "            if len(treatment_values) != len(control_values):\n",
    "                z = min(len(control_values), len(treatment_values))\n",
    "                control_values = control_values[:z]\n",
    "                treatment_values = treatment_values[:z]\n",
    "            module_data[module] = (control_values, treatment_values)\n",
    "        data_per_project[project] = module_data\n",
    "    return data_per_project\n"
   ]
  },
  {
   "cell_type": "markdown",
   "metadata": {},
   "source": [
    "### Effect Sizes With Type Information"
   ]
  },
  {
   "cell_type": "code",
   "execution_count": 17,
   "metadata": {
    "pycharm": {
     "name": "#%%\n"
    }
   },
   "outputs": [],
   "source": [
    "effect_sizes_for_latex = {}"
   ]
  },
  {
   "cell_type": "code",
   "execution_count": 18,
   "metadata": {
    "pycharm": {
     "name": "#%%\n"
    }
   },
   "outputs": [
    {
     "data": {
      "image/png": "[encoded data removed]",
      "text/plain": [
       "<Figure size 432x288 with 1 Axes>"
      ]
     },
     "metadata": {},
     "output_type": "display_data"
    }
   ],
   "source": [
    "fig, ax = plt.subplots()\n",
    "plt.title(\"Effect Sizes\")\n",
    "plt.xticks(rotation=90)\n",
    "n = 0\n",
    "effect_size_data = compute_data_for_effect_sizes(\"WSPy-TypeHintsInference\", \"RandooPy-TypeHintsInference\")\n",
    "for project, project_data in effect_size_data.items():\n",
    "    effect_sizes = []\n",
    "    for m, v in project_data.items():\n",
    "        x, y = v\n",
    "        try:\n",
    "            effect_size, _ = vd_a(x, y)\n",
    "            effect_sizes.append(effect_size)\n",
    "        except ZeroDivisionError:\n",
    "            pass\n",
    "    ax.boxplot(effect_sizes, positions=[n], widths=0.6)\n",
    "    n += 1\n",
    "ax.set_xticks(range(len(ticks)))\n",
    "ax.set_xticklabels(ticks)\n",
    "ax.set_ylim(-0.02, 1.02)\n",
    "plt.savefig(PAPER_EXPORT_PATH / \"img\" / \"effect-sizes-typehints.pdf\", bbox_inches=\"tight\")\n",
    "plt.show()"
   ]
  },
  {
   "cell_type": "code",
   "execution_count": 19,
   "metadata": {
    "pycharm": {
     "name": "#%%\n"
    }
   },
   "outputs": [
    {
     "name": "stdout",
     "output_type": "stream",
     "text": [
      "Project apimd\n",
      "    A12:     1.0 (large)\n",
      "    p-value: 1.5613030734324958e-07 (significant)\n",
      "\n",
      "Project async_btree\n",
      "    A12:     0.5345604808414726 (negligible)\n",
      "    p-value: 0.1734152074610516 \n",
      "\n",
      "Project codetiming\n",
      "    A12:     0.6362795857988166 (small)\n",
      "    p-value: 0.005313020883379603 (significant)\n",
      "\n",
      "Project docstring_parser\n",
      "    A12:     0.583838307802326 (small)\n",
      "    p-value: 0.0041387876617775135 (significant)\n",
      "\n",
      "Project flutes\n",
      "    A12:     0.5056586690810322 (negligible)\n",
      "    p-value: 0.4633153285068929 \n",
      "\n",
      "Project flutils\n",
      "    A12:     0.5411539485268524 (negligible)\n",
      "    p-value: 0.06665285602141557 \n",
      "\n",
      "Project mimesis\n",
      "    A12:     0.5298047899306567 (negligible)\n",
      "    p-value: 0.01728274383604878 (significant)\n",
      "\n",
      "Project pypara\n",
      "    A12:     0.6164933837429112 (small)\n",
      "    p-value: 0.002859166702619572 (significant)\n",
      "\n",
      "Project python-string-utils\n",
      "    A12:     0.704952741020794 (medium)\n",
      "    p-value: 2.9473880668246187e-08 (significant)\n",
      "\n",
      "Project pytutils\n",
      "    A12:     0.5250568819099504 (negligible)\n",
      "    p-value: 0.11037397611828903 \n",
      "\n"
     ]
    }
   ],
   "source": [
    "effect_sizes_per_project = {}\n",
    "mann_whitney_values = {}\n",
    "for project, project_data in effect_size_data.items():\n",
    "    controls = []\n",
    "    treatments = []\n",
    "    for _, v in project_data.items():\n",
    "        x, y = v\n",
    "        controls.extend(x)\n",
    "        treatments.extend(y)\n",
    "    effect_sizes_per_project[project] = vd_a(controls, treatments)\n",
    "    mann_whitney_values[project] = ss.mannwhitneyu(controls, treatments).pvalue\n",
    "\n",
    "effect_sizes_for_latex[\"typehints\"] = {}\n",
    "\n",
    "for project, effect_size in effect_sizes_per_project.items():\n",
    "    p_value = mann_whitney_values[project]\n",
    "    is_significant = \"(significant)\" if p_value < 0.05 else \"\"\n",
    "    print(f\"Project {project}\")\n",
    "    print(f\"    A12:     {effect_size[0]} ({effect_size[1]})\")\n",
    "    print(f\"    p-value: {p_value} {is_significant}\")\n",
    "    print()\n",
    "    effect_sizes_for_latex[\"typehints\"][project] = {\n",
    "        \"a12\": float(effect_size[0]),\n",
    "        \"effect\": effect_size[1],\n",
    "        \"p_value\": p_value,\n",
    "    }"
   ]
  },
  {
   "cell_type": "markdown",
   "metadata": {},
   "source": [
    "### Effect Sizes Without Type Information"
   ]
  },
  {
   "cell_type": "code",
   "execution_count": 20,
   "metadata": {
    "pycharm": {
     "name": "#%%\n"
    }
   },
   "outputs": [
    {
     "data": {
      "image/png": "[encoded data removed]",
      "text/plain": [
       "<Figure size 432x288 with 1 Axes>"
      ]
     },
     "metadata": {},
     "output_type": "display_data"
    }
   ],
   "source": [
    "fig, ax = plt.subplots()\n",
    "plt.title(\"Effect Sizes\")\n",
    "plt.xticks(rotation=90)\n",
    "n = 0\n",
    "effect_size_data = compute_data_for_effect_sizes(\"WSPy-NoTypes\", \"RandooPy-NoTypes\")\n",
    "for project, project_data in effect_size_data.items():\n",
    "    effect_sizes = []\n",
    "    for m, v in project_data.items():\n",
    "        x, y = v\n",
    "        try:\n",
    "            effect_size, _ = vd_a(x, y)\n",
    "            effect_sizes.append(effect_size)\n",
    "        except ZeroDivisionError:\n",
    "            pass\n",
    "    ax.boxplot(effect_sizes, positions=[n], widths=0.6)\n",
    "    n += 1\n",
    "ax.set_xticks(range(len(ticks)))\n",
    "ax.set_xticklabels(ticks)\n",
    "ax.set_ylim(-0.02, 1.02)\n",
    "plt.savefig(PAPER_EXPORT_PATH / \"img\" / \"effect-sizes-notypes.pdf\", bbox_inches=\"tight\")\n",
    "plt.show()"
   ]
  },
  {
   "cell_type": "code",
   "execution_count": 21,
   "metadata": {
    "pycharm": {
     "name": "#%%\n"
    }
   },
   "outputs": [
    {
     "name": "stdout",
     "output_type": "stream",
     "text": [
      "Project apimd\n",
      "    A12:     0.8787158145065398 (large)\n",
      "    p-value: 7.67993407165234e-08 (significant)\n",
      "\n",
      "Project async_btree\n",
      "    A12:     0.506 (negligible)\n",
      "    p-value: 0.42787389198924486 \n",
      "\n",
      "Project codetiming\n",
      "    A12:     0.6753826530612245 (medium)\n",
      "    p-value: 0.0004281534561123187 (significant)\n",
      "\n",
      "Project docstring_parser\n",
      "    A12:     0.58513863758619 (small)\n",
      "    p-value: 0.00584010241461645 (significant)\n",
      "\n",
      "Project flutes\n",
      "    A12:     0.5198961937716263 (negligible)\n",
      "    p-value: 0.34425599792278216 \n",
      "\n",
      "Project flutils\n",
      "    A12:     0.5567759401871256 (negligible)\n",
      "    p-value: 0.011427130890927593 (significant)\n",
      "\n",
      "Project mimesis\n",
      "    A12:     0.5242688187046519 (negligible)\n",
      "    p-value: 0.029318246498956098 (significant)\n",
      "\n",
      "Project pypara\n",
      "    A12:     0.5247992266508031 (negligible)\n",
      "    p-value: 0.21639314315401215 \n",
      "\n",
      "Project python-string-utils\n",
      "    A12:     0.7280985238885492 (medium)\n",
      "    p-value: 2.747265227295758e-09 (significant)\n",
      "\n",
      "Project pytutils\n",
      "    A12:     0.5262945173238961 (negligible)\n",
      "    p-value: 0.05129780945242309 \n",
      "\n"
     ]
    }
   ],
   "source": [
    "effect_sizes_per_project = {}\n",
    "mann_whitney_values = {}\n",
    "for project, project_data in effect_size_data.items():\n",
    "    controls = []\n",
    "    treatments = []\n",
    "    for _, v in project_data.items():\n",
    "        x, y = v\n",
    "        controls.extend(x)\n",
    "        treatments.extend(y)\n",
    "    effect_sizes_per_project[project] = vd_a(controls, treatments)\n",
    "    mann_whitney_values[project] = ss.mannwhitneyu(controls, treatments).pvalue\n",
    "\n",
    "effect_sizes_for_latex[\"notypes\"] = {}\n",
    "\n",
    "for project, effect_size in effect_sizes_per_project.items():\n",
    "    p_value = mann_whitney_values[project]\n",
    "    is_significant = \"(significant)\" if p_value < 0.05 else \"\"\n",
    "    print(f\"Project {project}\")\n",
    "    print(f\"    A12:     {effect_size[0]} ({effect_size[1]})\")\n",
    "    print(f\"    p-value: {p_value} {is_significant}\")\n",
    "    print()\n",
    "    effect_sizes_for_latex[\"notypes\"][project] = {\n",
    "        \"a12\": float(effect_size[0]),\n",
    "        \"effect\": effect_size[1],\n",
    "        \"p_value\": p_value,\n",
    "    }"
   ]
  },
  {
   "cell_type": "markdown",
   "metadata": {},
   "source": [
    "## RQ2: Influence of Type Information"
   ]
  },
  {
   "cell_type": "code",
   "execution_count": 22,
   "metadata": {
    "pycharm": {
     "name": "#%%\n"
    }
   },
   "outputs": [],
   "source": [
    "def plot_coverage_for(c, config):\n",
    "    data = config[config[cut] == c][seconds]\n",
    "    if data[\"10\"].min() < 1.0:\n",
    "        data.aggregate([\"min\", \"max\", \"mean\"]).transpose().plot(\n",
    "            title=c, yticks=np.arrange(0.0, 1.0, 0.1)\n",
    "        )\n",
    "\n",
    "\n",
    "def plot_configuration(config):\n",
    "    for c in set(config[cut]):\n",
    "        plot_coverage_for(c, config)\n",
    "\n",
    "\n",
    "all_classes = set(results[cut])\n",
    "\n",
    "\n",
    "def stupid_classes(config):\n",
    "    classes = set()\n",
    "    for c in all_classes:\n",
    "        if (\n",
    "            config[config[cut] == c][\"CoverageTimeline_T600\"].mean() -\n",
    "                config[config[cut] == c][\"CoverageTimeline_T1\"].mean() < 0.01\n",
    "        ):\n",
    "            classes.add(c)\n",
    "    return classes\n",
    "\n",
    "\n",
    "def get_all_stupid_classes():\n",
    "    d = {}\n",
    "    for name, konfig in konfigs.items():\n",
    "        d[name] = stupid_classes(konfig)\n",
    "    return d\n",
    "\n",
    "\n",
    "all_stupid_classes = get_all_stupid_classes()"
   ]
  },
  {
   "cell_type": "code",
   "execution_count": 23,
   "metadata": {
    "pycharm": {
     "name": "#%%\n"
    }
   },
   "outputs": [
    {
     "name": "stdout",
     "output_type": "stream",
     "text": [
      "Number of stupid classes:\n",
      "-------------------------\n",
      "We call a class “stupid” if the achieved coverage does not change over time\n",
      "Most of the time the reason is that we were not able to generate tests for those classes, thus the achieved coverage is only import coverage\n",
      "              RandooPy-NoTypes   44\n",
      "   RandooPy-TypeHintsInference   39\n",
      "                  WSPy-NoTypes   58\n",
      "       WSPy-TypeHintsInference   55\n"
     ]
    }
   ],
   "source": [
    "print(\"Number of stupid classes:\")\n",
    "print(\"-------------------------\")\n",
    "print(\"We call a class “stupid” if the achieved coverage does not change over time\")\n",
    "print(\"Most of the time the reason is that we were not able to generate tests for those classes, thus the achieved coverage is only import coverage\")\n",
    "\n",
    "for k, cs in all_stupid_classes.items():\n",
    "    cnt = len(cs)\n",
    "    print(\"{: >30}   {}\".format(k, cnt))"
   ]
  },
  {
   "cell_type": "code",
   "execution_count": 24,
   "metadata": {
    "pycharm": {
     "name": "#%%\n"
    }
   },
   "outputs": [
    {
     "name": "stdout",
     "output_type": "stream",
     "text": [
      "40\n"
     ]
    }
   ],
   "source": [
    "common_non_stupid_classes = all_classes\n",
    "for k in all_stupid_classes:\n",
    "    common_non_stupid_classes = common_non_stupid_classes.difference(\n",
    "        all_stupid_classes[k]\n",
    "    )\n",
    "\n",
    "print(len(common_non_stupid_classes))"
   ]
  },
  {
   "cell_type": "code",
   "execution_count": 25,
   "metadata": {
    "pycharm": {
     "name": "#%%\n"
    }
   },
   "outputs": [
    {
     "name": "stdout",
     "output_type": "stream",
     "text": [
      "Number of modules: 104\n"
     ]
    }
   ],
   "source": [
    "print(f\"Number of modules: {len(all_classes)}\")"
   ]
  },
  {
   "cell_type": "code",
   "execution_count": 26,
   "metadata": {
    "pycharm": {
     "name": "#%%\n"
    }
   },
   "outputs": [
    {
     "data": {
      "image/png": "[encoded data removed]",
      "text/plain": [
       "<Figure size 720x360 with 1 Axes>"
      ]
     },
     "metadata": {},
     "output_type": "display_data"
    }
   ],
   "source": [
    "toplot = {}\n",
    "legends = [\n",
    "    \"Whole-Suite Generation with Types \",\n",
    "    \"Random Generation with Types\",\n",
    "    \"Whole-Suite Generation without Types \",\n",
    "    \"Random Generation without Types\"\n",
    "]\n",
    "for k, cfg in enumerate([\n",
    "    wspy_typehints, randoopy_typehints, wspy_notypes, randoopy_notypes\n",
    "]):\n",
    "    toplot[legends[k]] = (cfg[\n",
    "        cfg[cut].isin(all_classes)\n",
    "    ][seconds].mean())\n",
    "fig, ax = plt.subplots()\n",
    "pd.DataFrame(toplot).plot(ax=ax, figsize=(10, 5))\n",
    "ax.set_xticks(range(0, 601, 30))\n",
    "ax.set_xticklabels([i for i in range(0, 601, 30)])\n",
    "# ax.set_ylim(0.0, 1.0)\n",
    "ax.set_ylabel(\"Coverage\")\n",
    "ax.set_xlabel(\"Time (s)\")\n",
    "plt.savefig(PAPER_EXPORT_PATH / \"img\" / \"coverage-over-time.pdf\", bbox_inches=\"tight\")\n",
    "plt.show()"
   ]
  },
  {
   "cell_type": "code",
   "execution_count": 27,
   "metadata": {
    "pycharm": {
     "name": "#%%\n"
    }
   },
   "outputs": [
    {
     "data": {
      "image/png": "[encoded data removed]",
      "text/plain": [
       "<Figure size 432x288 with 1 Axes>"
      ]
     },
     "metadata": {},
     "output_type": "display_data"
    }
   ],
   "source": [
    "fig, ax = plt.subplots()\n",
    "plt.title(\"Effect Sizes\")\n",
    "plt.xticks(rotation=90)\n",
    "n = 0\n",
    "effect_size_data = compute_data_for_effect_sizes(\"WSPy-TypeHintsInference\", \"WSPy-NoTypes\")\n",
    "for project, project_data in effect_size_data.items():\n",
    "    effect_sizes = []\n",
    "    for m, v in project_data.items():\n",
    "        x, y = v\n",
    "        try:\n",
    "            effect_size, _ = vd_a(x, y)\n",
    "            effect_sizes.append(effect_size)\n",
    "        except ZeroDivisionError:\n",
    "            pass\n",
    "    ax.boxplot(effect_sizes, positions=[n], widths=0.6)\n",
    "    n += 1\n",
    "ax.set_xticks(range(len(ticks)))\n",
    "ax.set_xticklabels(ticks)\n",
    "ax.set_ylim(-0.02, 1.02)\n",
    "plt.savefig(PAPER_EXPORT_PATH / \"img\" / \"effect-sizes-ws.pdf\", bbox_inches=\"tight\")\n",
    "plt.show()"
   ]
  },
  {
   "cell_type": "code",
   "execution_count": 28,
   "metadata": {
    "pycharm": {
     "name": "#%%\n"
    }
   },
   "outputs": [
    {
     "name": "stdout",
     "output_type": "stream",
     "text": [
      "Project apimd\n",
      "    A12:     1.0 (large)\n",
      "    p-value: 1.0885423221066458e-07 (significant)\n",
      "\n",
      "Project async_btree\n",
      "    A12:     0.5142066798715935 (negligible)\n",
      "    p-value: 0.3495523172171148 \n",
      "\n",
      "Project codetiming\n",
      "    A12:     0.5416050295857988 (negligible)\n",
      "    p-value: 0.20753332540789243 \n",
      "\n",
      "Project docstring_parser\n",
      "    A12:     0.5693314818488395 (negligible)\n",
      "    p-value: 0.020385561300943076 (significant)\n",
      "\n",
      "Project flutes\n",
      "    A12:     0.5067604110329909 (negligible)\n",
      "    p-value: 0.45820527941050065 \n",
      "\n",
      "Project flutils\n",
      "    A12:     0.5413301094696568 (negligible)\n",
      "    p-value: 0.07876754556012305 \n",
      "\n",
      "Project mimesis\n",
      "    A12:     0.5132803962547898 (negligible)\n",
      "    p-value: 0.15525674215720364 \n",
      "\n",
      "Project pypara\n",
      "    A12:     0.47692729766803843 (negligible)\n",
      "    p-value: 0.2526061984923983 \n",
      "\n",
      "Project python-string-utils\n",
      "    A12:     0.6105773429993886 (small)\n",
      "    p-value: 0.002295509821771542 (significant)\n",
      "\n",
      "Project pytutils\n",
      "    A12:     0.5042126498160674 (negligible)\n",
      "    p-value: 0.3968568800274816 \n",
      "\n"
     ]
    }
   ],
   "source": [
    "effect_sizes_per_project = {}\n",
    "mann_whitney_values = {}\n",
    "for project, project_data in effect_size_data.items():\n",
    "    controls = []\n",
    "    treatments = []\n",
    "    for _, v in project_data.items():\n",
    "        x, y = v\n",
    "        controls.extend(x)\n",
    "        treatments.extend(y)\n",
    "    effect_sizes_per_project[project] = vd_a(controls, treatments)\n",
    "    mann_whitney_values[project] = ss.mannwhitneyu(controls, treatments).pvalue\n",
    "\n",
    "effect_sizes_for_latex[\"ws\"] = {}\n",
    "\n",
    "for project, effect_size in effect_sizes_per_project.items():\n",
    "    p_value = mann_whitney_values[project]\n",
    "    is_significant = \"(significant)\" if p_value < 0.05 else \"\"\n",
    "    print(f\"Project {project}\")\n",
    "    print(f\"    A12:     {effect_size[0]} ({effect_size[1]})\")\n",
    "    print(f\"    p-value: {p_value} {is_significant}\")\n",
    "    print()\n",
    "    effect_sizes_for_latex[\"ws\"][project] = {\n",
    "        \"a12\": float(effect_size[0]),\n",
    "        \"effect\": effect_size[1],\n",
    "        \"p_value\": p_value,\n",
    "    }"
   ]
  },
  {
   "cell_type": "code",
   "execution_count": 29,
   "metadata": {
    "pycharm": {
     "name": "#%%\n"
    }
   },
   "outputs": [
    {
     "data": {
      "image/png": "[encoded data removed]",
      "text/plain": [
       "<Figure size 432x288 with 1 Axes>"
      ]
     },
     "metadata": {},
     "output_type": "display_data"
    }
   ],
   "source": [
    "fig, ax = plt.subplots()\n",
    "plt.title(\"Effect Sizes\")\n",
    "plt.xticks(rotation=90)\n",
    "n = 0\n",
    "effect_size_data = compute_data_for_effect_sizes(\"RandooPy-TypeHintsInference\", \"RandooPy-NoTypes\")\n",
    "for project, project_data in effect_size_data.items():\n",
    "    effect_sizes = []\n",
    "    for m, v in project_data.items():\n",
    "        x, y = v\n",
    "        try:\n",
    "            effect_size, _ = vd_a(x, y)\n",
    "            effect_sizes.append(effect_size)\n",
    "        except ZeroDivisionError:\n",
    "            pass\n",
    "    ax.boxplot(effect_sizes, positions=[n], widths=0.6)\n",
    "    n += 1\n",
    "ax.set_xticks(range(len(ticks)))\n",
    "ax.set_xticklabels(ticks)\n",
    "ax.set_ylim(-0.02, 1.02)\n",
    "plt.savefig(PAPER_EXPORT_PATH / \"img\" / \"effect-sizes-random.pdf\", bbox_inches=\"tight\")\n",
    "plt.show()"
   ]
  },
  {
   "cell_type": "code",
   "execution_count": 30,
   "metadata": {
    "pycharm": {
     "name": "#%%\n"
    }
   },
   "outputs": [
    {
     "name": "stdout",
     "output_type": "stream",
     "text": [
      "Project apimd\n",
      "    A12:     0.8088888888888889 (large)\n",
      "    p-value: 1.461481522349877e-05 (significant)\n",
      "\n",
      "Project async_btree\n",
      "    A12:     0.4875 (negligible)\n",
      "    p-value: 0.33901661094526997 \n",
      "\n",
      "Project codetiming\n",
      "    A12:     0.6285550129273197 (small)\n",
      "    p-value: 0.006611491865095002 (significant)\n",
      "\n",
      "Project docstring_parser\n",
      "    A12:     0.6335185185185185 (small)\n",
      "    p-value: 5.04726058109523e-06 (significant)\n",
      "\n",
      "Project flutes\n",
      "    A12:     0.5109164033323758 (negligible)\n",
      "    p-value: 0.41935269652542506 \n",
      "\n",
      "Project flutils\n",
      "    A12:     0.501093642688644 (negligible)\n",
      "    p-value: 0.47961035187843687 \n",
      "\n",
      "Project mimesis\n",
      "    A12:     0.4884218879579056 (negligible)\n",
      "    p-value: 0.19874812476073384 \n",
      "\n",
      "Project pypara\n",
      "    A12:     0.41058787319175133 (small)\n",
      "    p-value: 0.009371511338051804 (significant)\n",
      "\n",
      "Project python-string-utils\n",
      "    A12:     0.5701917360285375 (negligible)\n",
      "    p-value: 0.031307449784556664 (significant)\n",
      "\n",
      "Project pytutils\n",
      "    A12:     0.5043775036051915 (negligible)\n",
      "    p-value: 0.4153961134341533 \n",
      "\n"
     ]
    }
   ],
   "source": [
    "effect_sizes_per_project = {}\n",
    "mann_whitney_values = {}\n",
    "for project, project_data in effect_size_data.items():\n",
    "    controls = []\n",
    "    treatments = []\n",
    "    for _, v in project_data.items():\n",
    "        x, y = v\n",
    "        controls.extend(x)\n",
    "        treatments.extend(y)\n",
    "    effect_sizes_per_project[project] = vd_a(controls, treatments)\n",
    "    mann_whitney_values[project] = ss.mannwhitneyu(controls, treatments).pvalue\n",
    "\n",
    "effect_sizes_for_latex[\"random\"] = {}\n",
    "\n",
    "for project, effect_size in effect_sizes_per_project.items():\n",
    "    p_value = mann_whitney_values[project]\n",
    "    is_significant = \"(significant)\" if p_value < 0.05 else \"\"\n",
    "    print(f\"Project {project}\")\n",
    "    print(f\"    A12:     {effect_size[0]} ({effect_size[1]})\")\n",
    "    print(f\"    p-value: {p_value} {is_significant}\")\n",
    "    print()\n",
    "    effect_sizes_for_latex[\"random\"][project] = {\n",
    "        \"a12\": float(effect_size[0]),\n",
    "        \"effect\": effect_size[1],\n",
    "        \"p_value\": p_value,\n",
    "    }"
   ]
  },
  {
   "cell_type": "markdown",
   "metadata": {},
   "source": [
    "## LaTeX Macros"
   ]
  },
  {
   "cell_type": "code",
   "execution_count": 31,
   "metadata": {
    "pycharm": {
     "name": "#%%\n"
    }
   },
   "outputs": [
    {
     "name": "stdout",
     "output_type": "stream",
     "text": [
      "\\newcommand{\\AvgCovRandooPyNoTypes}{62.18722257865684}\n",
      "\\newcommand{\\AvgCovRandooPyTypeHintsInference}{63.05549138535335}\n",
      "\\newcommand{\\AvgCovWSPyNoTypes}{67.5168191227787}\n",
      "\\newcommand{\\AvgCovWSPyTypeHintsInference}{69.16931311126037}\n",
      "\n",
      "\\newcommand{\\EffSizetypehintsapimdA}{1.0}\n",
      "\\newcommand{\\EffSizetypehintsapimdEff}{large}\n",
      "\\newcommand{\\EffSizetypehintsapimdPvalue}{1.5613030734324958e-07}\n",
      "\n",
      "\\newcommand{\\EffSizetypehintsasyncbtreeA}{0.5345604808414726}\n",
      "\\newcommand{\\EffSizetypehintsasyncbtreeEff}{negligible}\n",
      "\\newcommand{\\EffSizetypehintsasyncbtreePvalue}{0.1734152074610516}\n",
      "\n",
      "\\newcommand{\\EffSizetypehintscodetimingA}{0.6362795857988166}\n",
      "\\newcommand{\\EffSizetypehintscodetimingEff}{small}\n",
      "\\newcommand{\\EffSizetypehintscodetimingPvalue}{0.005313020883379603}\n",
      "\n",
      "\\newcommand{\\EffSizetypehintsdocstringparserA}{0.583838307802326}\n",
      "\\newcommand{\\EffSizetypehintsdocstringparserEff}{small}\n",
      "\\newcommand{\\EffSizetypehintsdocstringparserPvalue}{0.0041387876617775135}\n",
      "\n",
      "\\newcommand{\\EffSizetypehintsflutesA}{0.5056586690810322}\n",
      "\\newcommand{\\EffSizetypehintsflutesEff}{negligible}\n",
      "\\newcommand{\\EffSizetypehintsflutesPvalue}{0.4633153285068929}\n",
      "\n",
      "\\newcommand{\\EffSizetypehintsflutilsA}{0.5411539485268524}\n",
      "\\newcommand{\\EffSizetypehintsflutilsEff}{negligible}\n",
      "\\newcommand{\\EffSizetypehintsflutilsPvalue}{0.06665285602141557}\n",
      "\n",
      "\\newcommand{\\EffSizetypehintsmimesisA}{0.5298047899306567}\n",
      "\\newcommand{\\EffSizetypehintsmimesisEff}{negligible}\n",
      "\\newcommand{\\EffSizetypehintsmimesisPvalue}{0.01728274383604878}\n",
      "\n",
      "\\newcommand{\\EffSizetypehintspyparaA}{0.6164933837429112}\n",
      "\\newcommand{\\EffSizetypehintspyparaEff}{small}\n",
      "\\newcommand{\\EffSizetypehintspyparaPvalue}{0.002859166702619572}\n",
      "\n",
      "\\newcommand{\\EffSizetypehintspythonstringutilsA}{0.704952741020794}\n",
      "\\newcommand{\\EffSizetypehintspythonstringutilsEff}{medium}\n",
      "\\newcommand{\\EffSizetypehintspythonstringutilsPvalue}{2.9473880668246187e-08}\n",
      "\n",
      "\\newcommand{\\EffSizetypehintspytutilsA}{0.5250568819099504}\n",
      "\\newcommand{\\EffSizetypehintspytutilsEff}{negligible}\n",
      "\\newcommand{\\EffSizetypehintspytutilsPvalue}{0.11037397611828903}\n",
      "\n",
      "\\newcommand{\\AvgEffSizetypehints}{0.6177798788654812}\n",
      "\n",
      "\\newcommand{\\EffSizenotypesapimdA}{0.8787158145065398}\n",
      "\\newcommand{\\EffSizenotypesapimdEff}{large}\n",
      "\\newcommand{\\EffSizenotypesapimdPvalue}{7.67993407165234e-08}\n",
      "\n",
      "\\newcommand{\\EffSizenotypesasyncbtreeA}{0.506}\n",
      "\\newcommand{\\EffSizenotypesasyncbtreeEff}{negligible}\n",
      "\\newcommand{\\EffSizenotypesasyncbtreePvalue}{0.42787389198924486}\n",
      "\n",
      "\\newcommand{\\EffSizenotypescodetimingA}{0.6753826530612245}\n",
      "\\newcommand{\\EffSizenotypescodetimingEff}{medium}\n",
      "\\newcommand{\\EffSizenotypescodetimingPvalue}{0.0004281534561123187}\n",
      "\n",
      "\\newcommand{\\EffSizenotypesdocstringparserA}{0.58513863758619}\n",
      "\\newcommand{\\EffSizenotypesdocstringparserEff}{small}\n",
      "\\newcommand{\\EffSizenotypesdocstringparserPvalue}{0.00584010241461645}\n",
      "\n",
      "\\newcommand{\\EffSizenotypesflutesA}{0.5198961937716263}\n",
      "\\newcommand{\\EffSizenotypesflutesEff}{negligible}\n",
      "\\newcommand{\\EffSizenotypesflutesPvalue}{0.34425599792278216}\n",
      "\n",
      "\\newcommand{\\EffSizenotypesflutilsA}{0.5567759401871256}\n",
      "\\newcommand{\\EffSizenotypesflutilsEff}{negligible}\n",
      "\\newcommand{\\EffSizenotypesflutilsPvalue}{0.011427130890927593}\n",
      "\n",
      "\\newcommand{\\EffSizenotypesmimesisA}{0.5242688187046519}\n",
      "\\newcommand{\\EffSizenotypesmimesisEff}{negligible}\n",
      "\\newcommand{\\EffSizenotypesmimesisPvalue}{0.029318246498956098}\n",
      "\n",
      "\\newcommand{\\EffSizenotypespyparaA}{0.5247992266508031}\n",
      "\\newcommand{\\EffSizenotypespyparaEff}{negligible}\n",
      "\\newcommand{\\EffSizenotypespyparaPvalue}{0.21639314315401215}\n",
      "\n",
      "\\newcommand{\\EffSizenotypespythonstringutilsA}{0.7280985238885492}\n",
      "\\newcommand{\\EffSizenotypespythonstringutilsEff}{medium}\n",
      "\\newcommand{\\EffSizenotypespythonstringutilsPvalue}{2.747265227295758e-09}\n",
      "\n",
      "\\newcommand{\\EffSizenotypespytutilsA}{0.5262945173238961}\n",
      "\\newcommand{\\EffSizenotypespytutilsEff}{negligible}\n",
      "\\newcommand{\\EffSizenotypespytutilsPvalue}{0.05129780945242309}\n",
      "\n",
      "\\newcommand{\\AvgEffSizenotypes}{0.6025370325680607}\n",
      "\n",
      "\\newcommand{\\EffSizewsapimdA}{1.0}\n",
      "\\newcommand{\\EffSizewsapimdEff}{large}\n",
      "\\newcommand{\\EffSizewsapimdPvalue}{1.0885423221066458e-07}\n",
      "\n",
      "\\newcommand{\\EffSizewsasyncbtreeA}{0.5142066798715935}\n",
      "\\newcommand{\\EffSizewsasyncbtreeEff}{negligible}\n",
      "\\newcommand{\\EffSizewsasyncbtreePvalue}{0.3495523172171148}\n",
      "\n",
      "\\newcommand{\\EffSizewscodetimingA}{0.5416050295857988}\n",
      "\\newcommand{\\EffSizewscodetimingEff}{negligible}\n",
      "\\newcommand{\\EffSizewscodetimingPvalue}{0.20753332540789243}\n",
      "\n",
      "\\newcommand{\\EffSizewsdocstringparserA}{0.5693314818488395}\n",
      "\\newcommand{\\EffSizewsdocstringparserEff}{negligible}\n",
      "\\newcommand{\\EffSizewsdocstringparserPvalue}{0.020385561300943076}\n",
      "\n",
      "\\newcommand{\\EffSizewsflutesA}{0.5067604110329909}\n",
      "\\newcommand{\\EffSizewsflutesEff}{negligible}\n",
      "\\newcommand{\\EffSizewsflutesPvalue}{0.45820527941050065}\n",
      "\n",
      "\\newcommand{\\EffSizewsflutilsA}{0.5413301094696568}\n",
      "\\newcommand{\\EffSizewsflutilsEff}{negligible}\n",
      "\\newcommand{\\EffSizewsflutilsPvalue}{0.07876754556012305}\n",
      "\n",
      "\\newcommand{\\EffSizewsmimesisA}{0.5132803962547898}\n",
      "\\newcommand{\\EffSizewsmimesisEff}{negligible}\n",
      "\\newcommand{\\EffSizewsmimesisPvalue}{0.15525674215720364}\n",
      "\n",
      "\\newcommand{\\EffSizewspyparaA}{0.47692729766803843}\n",
      "\\newcommand{\\EffSizewspyparaEff}{negligible}\n",
      "\\newcommand{\\EffSizewspyparaPvalue}{0.2526061984923983}\n",
      "\n",
      "\\newcommand{\\EffSizewspythonstringutilsA}{0.6105773429993886}\n",
      "\\newcommand{\\EffSizewspythonstringutilsEff}{small}\n",
      "\\newcommand{\\EffSizewspythonstringutilsPvalue}{0.002295509821771542}\n",
      "\n",
      "\\newcommand{\\EffSizewspytutilsA}{0.5042126498160674}\n",
      "\\newcommand{\\EffSizewspytutilsEff}{negligible}\n",
      "\\newcommand{\\EffSizewspytutilsPvalue}{0.3968568800274816}\n",
      "\n",
      "\\newcommand{\\AvgEffSizews}{0.5778231398547163}\n",
      "\n",
      "\\newcommand{\\EffSizerandomapimdA}{0.8088888888888889}\n",
      "\\newcommand{\\EffSizerandomapimdEff}{large}\n",
      "\\newcommand{\\EffSizerandomapimdPvalue}{1.461481522349877e-05}\n",
      "\n",
      "\\newcommand{\\EffSizerandomasyncbtreeA}{0.4875}\n",
      "\\newcommand{\\EffSizerandomasyncbtreeEff}{negligible}\n",
      "\\newcommand{\\EffSizerandomasyncbtreePvalue}{0.33901661094526997}\n",
      "\n",
      "\\newcommand{\\EffSizerandomcodetimingA}{0.6285550129273197}\n",
      "\\newcommand{\\EffSizerandomcodetimingEff}{small}\n",
      "\\newcommand{\\EffSizerandomcodetimingPvalue}{0.006611491865095002}\n",
      "\n",
      "\\newcommand{\\EffSizerandomdocstringparserA}{0.6335185185185185}\n",
      "\\newcommand{\\EffSizerandomdocstringparserEff}{small}\n",
      "\\newcommand{\\EffSizerandomdocstringparserPvalue}{5.04726058109523e-06}\n",
      "\n",
      "\\newcommand{\\EffSizerandomflutesA}{0.5109164033323758}\n",
      "\\newcommand{\\EffSizerandomflutesEff}{negligible}\n",
      "\\newcommand{\\EffSizerandomflutesPvalue}{0.41935269652542506}\n",
      "\n",
      "\\newcommand{\\EffSizerandomflutilsA}{0.501093642688644}\n",
      "\\newcommand{\\EffSizerandomflutilsEff}{negligible}\n",
      "\\newcommand{\\EffSizerandomflutilsPvalue}{0.47961035187843687}\n",
      "\n",
      "\\newcommand{\\EffSizerandommimesisA}{0.4884218879579056}\n",
      "\\newcommand{\\EffSizerandommimesisEff}{negligible}\n",
      "\\newcommand{\\EffSizerandommimesisPvalue}{0.19874812476073384}\n",
      "\n",
      "\\newcommand{\\EffSizerandompyparaA}{0.41058787319175133}\n",
      "\\newcommand{\\EffSizerandompyparaEff}{small}\n",
      "\\newcommand{\\EffSizerandompyparaPvalue}{0.009371511338051804}\n",
      "\n",
      "\\newcommand{\\EffSizerandompythonstringutilsA}{0.5701917360285375}\n",
      "\\newcommand{\\EffSizerandompythonstringutilsEff}{negligible}\n",
      "\\newcommand{\\EffSizerandompythonstringutilsPvalue}{0.031307449784556664}\n",
      "\n",
      "\\newcommand{\\EffSizerandompytutilsA}{0.5043775036051915}\n",
      "\\newcommand{\\EffSizerandompytutilsEff}{negligible}\n",
      "\\newcommand{\\EffSizerandompytutilsPvalue}{0.4153961134341533}\n",
      "\n",
      "\\newcommand{\\AvgEffSizerandom}{0.5544051467139133}\n",
      "\n"
     ]
    },
    {
     "data": {
      "text/plain": [
       "<Figure size 432x288 with 0 Axes>"
      ]
     },
     "metadata": {},
     "output_type": "display_data"
    }
   ],
   "source": [
    "plt.savefig(PAPER_EXPORT_PATH / \"img\" / \"coverage-per-project.pdf\", bbox_inches=\"tight\")\n",
    "with open(PAPER_EXPORT_PATH / \"macros.tex\", mode=\"w\") as f:\n",
    "    f.write(\"\\\\newcommand{\\\\numIterations}{\" + str(runs) + \"}\\n\")\n",
    "    f.write(\"\\\\newcommand{\\\\numProjects}{\" + str(len(ticks)) + \"}\\n\")\n",
    "    f.write(\"\\\\newcommand{\\\\numUniqueClasses}{\" + str(number_cuts) + \"}\\n\")\n",
    "    f.write(\"\\n\")\n",
    "    for cn, cr in konfigs.items():\n",
    "        macro_config_name = str(cn.replace(\"-\", \"\"))\n",
    "        macro_name = f\"AvgCov{macro_config_name}\"\n",
    "        value = str(float(cr[coverage].mean() * 100))\n",
    "        content = \"\\\\newcommand{\\\\\" + macro_name + \"}{\" + value + \"}\"\n",
    "        print(content)\n",
    "        f.write(content + \"\\n\")\n",
    "\n",
    "    print()\n",
    "    f.write(\"\\n\")\n",
    "\n",
    "    for c, dat in effect_sizes_for_latex.items():\n",
    "        a12_values = []\n",
    "        for proj_name, eff_data in dat.items():\n",
    "            macro_project_name  = proj_name.replace(\"-\", \"\").replace(\"_\", \"\")\n",
    "            a12_values.append(float(eff_data[\"a12\"]))\n",
    "            macro_name_basis = f\"EffSize{c}{macro_project_name}\"\n",
    "            a12_macro = \"\\\\newcommand{\\\\\" + macro_name_basis + \"A}{\" + str(eff_data[\"a12\"]) + \"}\"\n",
    "            effect_macro = \"\\\\newcommand{\\\\\" + macro_name_basis + \"Eff}{\" + eff_data[\"effect\"] + \"}\"\n",
    "            p_macro = \"\\\\newcommand{\\\\\" + macro_name_basis + \"Pvalue}{\" + str(eff_data[\"p_value\"]) + \"}\"\n",
    "            print(a12_macro)\n",
    "            print(effect_macro)\n",
    "            print(p_macro)\n",
    "            print()\n",
    "            f.write(a12_macro + \"\\n\")\n",
    "            f.write(effect_macro + \"\\n\")\n",
    "            f.write(p_macro + \"\\n\")\n",
    "            f.write(\"\\n\")\n",
    "        a12_avg_macro = \"\\\\newcommand{\\\\AvgEffSize\" + c + \"}{\" + str(statistics.mean(a12_values)) + \"}\"\n",
    "        print(a12_avg_macro)\n",
    "        f.write(a12_avg_macro + \"\\n\")\n",
    "        print()\n",
    "        f.write(\"\\n\")"
   ]
  },
  {
   "cell_type": "markdown",
   "metadata": {},
   "source": [
    "### Project Overview Table"
   ]
  },
  {
   "cell_type": "code",
   "execution_count": 32,
   "metadata": {
    "pycharm": {
     "name": "#%%\n"
    }
   },
   "outputs": [
    {
     "name": "stdout",
     "output_type": "stream",
     "text": [
      "\\begin{tabular}{@{}l r r r r r r@{}}%\n",
      "\\toprule%\n",
      "Project Name&Version&Lines of Code&Used Modules&Avg. \\# Code Objects&Avg. \\# Predicates&Avg. \\# Types\\\\%\n",
      "\\verb|apimd|&1.0.2&316&1&35.0&83.0&11.0\\\\%\n",
      "\\verb|async_btree|&1.0.1&284&6&9.0&8.666666666666666&6.333333333333333\\\\%\n",
      "\\verb|codetiming|&1.2.0&85&2&18.0&8.0&6.0\\\\%\n",
      "\\verb|docstring_parser|&0.7.1&608&6&12.0&15.666666666666666&9.5\\\\%\n",
      "\\verb|flutes|&0.2.0.post0&1085&9&19.0&26.0&5.0\\\\%\n",
      "\\verb|flutils|&0.6&1715&13&10.23076923076923&22.307692307692307&8.384615384615385\\\\%\n",
      "\\verb|mimesis|&4.0.0&1663&34&12.333333333333334&5.7&9.166666666666666\\\\%\n",
      "\\verb|pypara|&0.0.22&1305&6&47.166666666666664&23.5&12.0\\\\%\n",
      "\\verb|python-string-utils|&1.0.0&476&4&21.0&29.5&6.5\\\\%\n",
      "\\verb|pytutils|&0.4.1&1108&23&8.1875&6.625&6.0625\\\\%\n",
      "\\midrule%\n",
      "Total&&8645&104&191.91826923076923&228.96602564102562&79.94711538461539\\\\\\bottomrule%\n",
      "%\n",
      "\\end{tabular}\n"
     ]
    }
   ],
   "source": [
    "table = pylatex.Tabular(\"l r r r r r r\", booktabs=True)\n",
    "table.add_row([\n",
    "    \"Project Name\",\n",
    "    \"Version\",\n",
    "    \"Lines of Code\",\n",
    "    \"Used Modules\",\n",
    "    \"Avg. # Code Objects\",\n",
    "    \"Avg. # Predicates\",\n",
    "    \"Avg. # Types\",\n",
    "])\n",
    "\n",
    "considered_cuts = set(results[cut])\n",
    "considered_projects = project_information[project_information[\"filename\"].isin(considered_cuts)]\n",
    "\n",
    "raw_table_data = considered_projects.groupby([\"project\", \"version\"], as_index=False).agg(\n",
    "    {\n",
    "        \"code\": \"sum\",\n",
    "        \"filename\": \"count\",\n",
    "        \"CodeObjects\": \"mean\",\n",
    "        \"Predicates\": \"mean\",\n",
    "        \"GenerableTypes\": \"mean\",\n",
    "        \"num_parameter_types\": \"mean\",\n",
    "    }\n",
    ")\n",
    "locs = 0\n",
    "modules_count = 0\n",
    "code_objects = []\n",
    "predicates = []\n",
    "accessibles = []\n",
    "generable_types = []\n",
    "parameter_types = []\n",
    "for _, row in raw_table_data.iterrows():\n",
    "    table.add_row([\n",
    "        pylatex.utils.verbatim(row[\"project\"]),\n",
    "        row[\"version\"],\n",
    "        row[\"code\"],\n",
    "        row[\"filename\"],\n",
    "        row[\"CodeObjects\"],\n",
    "        row[\"Predicates\"],\n",
    "        row[\"GenerableTypes\"],\n",
    "    ])\n",
    "    locs += int(row[\"code\"])\n",
    "    modules_count += int(row[\"filename\"])\n",
    "    code_objects.append(float(row[\"CodeObjects\"]))\n",
    "    predicates.append(float(row[\"Predicates\"]))\n",
    "    generable_types.append(float(row[\"GenerableTypes\"]))\n",
    "    parameter_types.append(float(row[\"num_parameter_types\"]))\n",
    "\n",
    "table.add_hline()\n",
    "table.add_row([\n",
    "    \"Total\",\n",
    "    \"\",\n",
    "    locs,\n",
    "    modules_count,\n",
    "    sum(code_objects),\n",
    "    sum(predicates),\n",
    "    sum(generable_types),\n",
    "])\n",
    "\n",
    "print(table.dumps())"
   ]
  },
  {
   "cell_type": "code",
   "execution_count": null,
   "metadata": {
    "pycharm": {
     "name": "#%%\n"
    }
   },
   "outputs": [],
   "source": []
  }
 ],
 "metadata": {
  "kernelspec": {
   "display_name": "Python 3",
   "language": "python",
   "name": "python3"
  },
  "language_info": {
   "codemirror_mode": {
    "name": "ipython",
    "version": 3
   },
   "file_extension": ".py",
   "mimetype": "text/x-python",
   "name": "python",
   "nbconvert_exporter": "python",
   "pygments_lexer": "ipython3",
   "version": "3.8.0"
  }
 },
 "nbformat": 4,
 "nbformat_minor": 1
}
